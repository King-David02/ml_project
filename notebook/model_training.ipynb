{
 "cells": [
  {
   "cell_type": "code",
   "execution_count": 1,
   "metadata": {},
   "outputs": [],
   "source": [
    "import numpy as np\n",
    "import pandas as pd\n",
    "import matplotlib.pyplot as plt \n",
    "import seaborn as sns\n",
    "from sklearn.metrics import r2_score, mean_absolute_error, mean_squared_error\n",
    "from sklearn.neighbors import KNeighborsRegressor\n",
    "from sklearn.tree import DecisionTreeRegressor\n",
    "from sklearn.ensemble import RandomForestRegressor,AdaBoostRegressor\n",
    "from sklearn.svm import SVR\n",
    "from sklearn.linear_model import LinearRegression, Ridge,Lasso\n",
    "from sklearn.model_selection import train_test_split\n",
    "from sklearn.compose import ColumnTransformer\n",
    "from sklearn.model_selection import RandomizedSearchCV\n",
    "from sklearn.preprocessing import OneHotEncoder, StandardScaler\n",
    "from catboost import CatBoostRegressor\n",
    "from xgboost import XGBRegressor\n",
    "import warnings"
   ]
  },
  {
   "cell_type": "code",
   "execution_count": 2,
   "metadata": {},
   "outputs": [],
   "source": [
    "df = pd.read_csv('data/StudentsPerformance.csv')"
   ]
  },
  {
   "cell_type": "code",
   "execution_count": 3,
   "metadata": {},
   "outputs": [
    {
     "data": {
      "application/vnd.microsoft.datawrangler.viewer.v0+json": {
       "columns": [
        {
         "name": "index",
         "rawType": "int64",
         "type": "integer"
        },
        {
         "name": "gender",
         "rawType": "object",
         "type": "string"
        },
        {
         "name": "race/ethnicity",
         "rawType": "object",
         "type": "string"
        },
        {
         "name": "parental level of education",
         "rawType": "object",
         "type": "string"
        },
        {
         "name": "lunch",
         "rawType": "object",
         "type": "string"
        },
        {
         "name": "test preparation course",
         "rawType": "object",
         "type": "string"
        },
        {
         "name": "math score",
         "rawType": "int64",
         "type": "integer"
        },
        {
         "name": "reading score",
         "rawType": "int64",
         "type": "integer"
        },
        {
         "name": "writing score",
         "rawType": "int64",
         "type": "integer"
        }
       ],
       "conversionMethod": "pd.DataFrame",
       "ref": "e57b53c6-e316-40f8-b88f-b625bcb42816",
       "rows": [
        [
         "0",
         "female",
         "group B",
         "bachelor's degree",
         "standard",
         "none",
         "72",
         "72",
         "74"
        ],
        [
         "1",
         "female",
         "group C",
         "some college",
         "standard",
         "completed",
         "69",
         "90",
         "88"
        ],
        [
         "2",
         "female",
         "group B",
         "master's degree",
         "standard",
         "none",
         "90",
         "95",
         "93"
        ],
        [
         "3",
         "male",
         "group A",
         "associate's degree",
         "free/reduced",
         "none",
         "47",
         "57",
         "44"
        ],
        [
         "4",
         "male",
         "group C",
         "some college",
         "standard",
         "none",
         "76",
         "78",
         "75"
        ]
       ],
       "shape": {
        "columns": 8,
        "rows": 5
       }
      },
      "text/html": [
       "<div>\n",
       "<style scoped>\n",
       "    .dataframe tbody tr th:only-of-type {\n",
       "        vertical-align: middle;\n",
       "    }\n",
       "\n",
       "    .dataframe tbody tr th {\n",
       "        vertical-align: top;\n",
       "    }\n",
       "\n",
       "    .dataframe thead th {\n",
       "        text-align: right;\n",
       "    }\n",
       "</style>\n",
       "<table border=\"1\" class=\"dataframe\">\n",
       "  <thead>\n",
       "    <tr style=\"text-align: right;\">\n",
       "      <th></th>\n",
       "      <th>gender</th>\n",
       "      <th>race/ethnicity</th>\n",
       "      <th>parental level of education</th>\n",
       "      <th>lunch</th>\n",
       "      <th>test preparation course</th>\n",
       "      <th>math score</th>\n",
       "      <th>reading score</th>\n",
       "      <th>writing score</th>\n",
       "    </tr>\n",
       "  </thead>\n",
       "  <tbody>\n",
       "    <tr>\n",
       "      <th>0</th>\n",
       "      <td>female</td>\n",
       "      <td>group B</td>\n",
       "      <td>bachelor's degree</td>\n",
       "      <td>standard</td>\n",
       "      <td>none</td>\n",
       "      <td>72</td>\n",
       "      <td>72</td>\n",
       "      <td>74</td>\n",
       "    </tr>\n",
       "    <tr>\n",
       "      <th>1</th>\n",
       "      <td>female</td>\n",
       "      <td>group C</td>\n",
       "      <td>some college</td>\n",
       "      <td>standard</td>\n",
       "      <td>completed</td>\n",
       "      <td>69</td>\n",
       "      <td>90</td>\n",
       "      <td>88</td>\n",
       "    </tr>\n",
       "    <tr>\n",
       "      <th>2</th>\n",
       "      <td>female</td>\n",
       "      <td>group B</td>\n",
       "      <td>master's degree</td>\n",
       "      <td>standard</td>\n",
       "      <td>none</td>\n",
       "      <td>90</td>\n",
       "      <td>95</td>\n",
       "      <td>93</td>\n",
       "    </tr>\n",
       "    <tr>\n",
       "      <th>3</th>\n",
       "      <td>male</td>\n",
       "      <td>group A</td>\n",
       "      <td>associate's degree</td>\n",
       "      <td>free/reduced</td>\n",
       "      <td>none</td>\n",
       "      <td>47</td>\n",
       "      <td>57</td>\n",
       "      <td>44</td>\n",
       "    </tr>\n",
       "    <tr>\n",
       "      <th>4</th>\n",
       "      <td>male</td>\n",
       "      <td>group C</td>\n",
       "      <td>some college</td>\n",
       "      <td>standard</td>\n",
       "      <td>none</td>\n",
       "      <td>76</td>\n",
       "      <td>78</td>\n",
       "      <td>75</td>\n",
       "    </tr>\n",
       "  </tbody>\n",
       "</table>\n",
       "</div>"
      ],
      "text/plain": [
       "   gender race/ethnicity parental level of education         lunch  \\\n",
       "0  female        group B           bachelor's degree      standard   \n",
       "1  female        group C                some college      standard   \n",
       "2  female        group B             master's degree      standard   \n",
       "3    male        group A          associate's degree  free/reduced   \n",
       "4    male        group C                some college      standard   \n",
       "\n",
       "  test preparation course  math score  reading score  writing score  \n",
       "0                    none          72             72             74  \n",
       "1               completed          69             90             88  \n",
       "2                    none          90             95             93  \n",
       "3                    none          47             57             44  \n",
       "4                    none          76             78             75  "
      ]
     },
     "execution_count": 3,
     "metadata": {},
     "output_type": "execute_result"
    }
   ],
   "source": [
    "df.head()"
   ]
  },
  {
   "cell_type": "code",
   "execution_count": 4,
   "metadata": {},
   "outputs": [],
   "source": [
    "X = df.drop('math score', axis=1)"
   ]
  },
  {
   "cell_type": "code",
   "execution_count": 5,
   "metadata": {},
   "outputs": [
    {
     "data": {
      "application/vnd.microsoft.datawrangler.viewer.v0+json": {
       "columns": [
        {
         "name": "index",
         "rawType": "int64",
         "type": "integer"
        },
        {
         "name": "gender",
         "rawType": "object",
         "type": "string"
        },
        {
         "name": "race/ethnicity",
         "rawType": "object",
         "type": "string"
        },
        {
         "name": "parental level of education",
         "rawType": "object",
         "type": "string"
        },
        {
         "name": "lunch",
         "rawType": "object",
         "type": "string"
        },
        {
         "name": "test preparation course",
         "rawType": "object",
         "type": "string"
        },
        {
         "name": "reading score",
         "rawType": "int64",
         "type": "integer"
        },
        {
         "name": "writing score",
         "rawType": "int64",
         "type": "integer"
        }
       ],
       "conversionMethod": "pd.DataFrame",
       "ref": "5ee4ada4-3a96-4f58-9638-22c4592707ea",
       "rows": [
        [
         "0",
         "female",
         "group B",
         "bachelor's degree",
         "standard",
         "none",
         "72",
         "74"
        ],
        [
         "1",
         "female",
         "group C",
         "some college",
         "standard",
         "completed",
         "90",
         "88"
        ],
        [
         "2",
         "female",
         "group B",
         "master's degree",
         "standard",
         "none",
         "95",
         "93"
        ],
        [
         "3",
         "male",
         "group A",
         "associate's degree",
         "free/reduced",
         "none",
         "57",
         "44"
        ],
        [
         "4",
         "male",
         "group C",
         "some college",
         "standard",
         "none",
         "78",
         "75"
        ]
       ],
       "shape": {
        "columns": 7,
        "rows": 5
       }
      },
      "text/html": [
       "<div>\n",
       "<style scoped>\n",
       "    .dataframe tbody tr th:only-of-type {\n",
       "        vertical-align: middle;\n",
       "    }\n",
       "\n",
       "    .dataframe tbody tr th {\n",
       "        vertical-align: top;\n",
       "    }\n",
       "\n",
       "    .dataframe thead th {\n",
       "        text-align: right;\n",
       "    }\n",
       "</style>\n",
       "<table border=\"1\" class=\"dataframe\">\n",
       "  <thead>\n",
       "    <tr style=\"text-align: right;\">\n",
       "      <th></th>\n",
       "      <th>gender</th>\n",
       "      <th>race/ethnicity</th>\n",
       "      <th>parental level of education</th>\n",
       "      <th>lunch</th>\n",
       "      <th>test preparation course</th>\n",
       "      <th>reading score</th>\n",
       "      <th>writing score</th>\n",
       "    </tr>\n",
       "  </thead>\n",
       "  <tbody>\n",
       "    <tr>\n",
       "      <th>0</th>\n",
       "      <td>female</td>\n",
       "      <td>group B</td>\n",
       "      <td>bachelor's degree</td>\n",
       "      <td>standard</td>\n",
       "      <td>none</td>\n",
       "      <td>72</td>\n",
       "      <td>74</td>\n",
       "    </tr>\n",
       "    <tr>\n",
       "      <th>1</th>\n",
       "      <td>female</td>\n",
       "      <td>group C</td>\n",
       "      <td>some college</td>\n",
       "      <td>standard</td>\n",
       "      <td>completed</td>\n",
       "      <td>90</td>\n",
       "      <td>88</td>\n",
       "    </tr>\n",
       "    <tr>\n",
       "      <th>2</th>\n",
       "      <td>female</td>\n",
       "      <td>group B</td>\n",
       "      <td>master's degree</td>\n",
       "      <td>standard</td>\n",
       "      <td>none</td>\n",
       "      <td>95</td>\n",
       "      <td>93</td>\n",
       "    </tr>\n",
       "    <tr>\n",
       "      <th>3</th>\n",
       "      <td>male</td>\n",
       "      <td>group A</td>\n",
       "      <td>associate's degree</td>\n",
       "      <td>free/reduced</td>\n",
       "      <td>none</td>\n",
       "      <td>57</td>\n",
       "      <td>44</td>\n",
       "    </tr>\n",
       "    <tr>\n",
       "      <th>4</th>\n",
       "      <td>male</td>\n",
       "      <td>group C</td>\n",
       "      <td>some college</td>\n",
       "      <td>standard</td>\n",
       "      <td>none</td>\n",
       "      <td>78</td>\n",
       "      <td>75</td>\n",
       "    </tr>\n",
       "  </tbody>\n",
       "</table>\n",
       "</div>"
      ],
      "text/plain": [
       "   gender race/ethnicity parental level of education         lunch  \\\n",
       "0  female        group B           bachelor's degree      standard   \n",
       "1  female        group C                some college      standard   \n",
       "2  female        group B             master's degree      standard   \n",
       "3    male        group A          associate's degree  free/reduced   \n",
       "4    male        group C                some college      standard   \n",
       "\n",
       "  test preparation course  reading score  writing score  \n",
       "0                    none             72             74  \n",
       "1               completed             90             88  \n",
       "2                    none             95             93  \n",
       "3                    none             57             44  \n",
       "4                    none             78             75  "
      ]
     },
     "execution_count": 5,
     "metadata": {},
     "output_type": "execute_result"
    }
   ],
   "source": [
    "X.head()"
   ]
  },
  {
   "cell_type": "code",
   "execution_count": 6,
   "metadata": {},
   "outputs": [
    {
     "name": "stdout",
     "output_type": "stream",
     "text": [
      "categories in Gender:['female' 'male']\n"
     ]
    }
   ],
   "source": [
    "print('categories in Gender:', end=\"\")\n",
    "print(df['gender'].unique())"
   ]
  },
  {
   "cell_type": "code",
   "execution_count": 7,
   "metadata": {},
   "outputs": [],
   "source": [
    "y = df['math score']"
   ]
  },
  {
   "cell_type": "code",
   "execution_count": 8,
   "metadata": {},
   "outputs": [
    {
     "data": {
      "text/plain": [
       "0      72\n",
       "1      69\n",
       "2      90\n",
       "3      47\n",
       "4      76\n",
       "       ..\n",
       "995    88\n",
       "996    62\n",
       "997    59\n",
       "998    68\n",
       "999    77\n",
       "Name: math score, Length: 1000, dtype: int64"
      ]
     },
     "execution_count": 8,
     "metadata": {},
     "output_type": "execute_result"
    }
   ],
   "source": [
    "y"
   ]
  },
  {
   "cell_type": "code",
   "execution_count": 9,
   "metadata": {},
   "outputs": [],
   "source": [
    "num_var = X.select_dtypes(exclude=\"object\").columns\n",
    "cat_var = X.select_dtypes(include=\"object\").columns"
   ]
  },
  {
   "cell_type": "code",
   "execution_count": 10,
   "metadata": {},
   "outputs": [],
   "source": [
    "ohEncoder = OneHotEncoder()\n",
    "scScaler= StandardScaler()\n",
    "\n",
    "preprocessor = ColumnTransformer(\n",
    "    [\n",
    "        (\"OneHotEncoder\", ohEncoder, cat_var),\n",
    "         (\"StandardScaler\", scScaler, num_var),        \n",
    "    ]\n",
    ")"
   ]
  },
  {
   "cell_type": "code",
   "execution_count": 11,
   "metadata": {},
   "outputs": [],
   "source": [
    "X = preprocessor.fit_transform(X)"
   ]
  },
  {
   "cell_type": "code",
   "execution_count": 12,
   "metadata": {},
   "outputs": [
    {
     "data": {
      "text/plain": [
       "((800, 19), (200, 19))"
      ]
     },
     "execution_count": 12,
     "metadata": {},
     "output_type": "execute_result"
    }
   ],
   "source": [
    "from sklearn.model_selection import train_test_split\n",
    "X_train, X_test, y_train, y_test = train_test_split(X,y,test_size=0.2,random_state=42)\n",
    "X_train.shape, X_test.shape"
   ]
  },
  {
   "cell_type": "code",
   "execution_count": 13,
   "metadata": {},
   "outputs": [],
   "source": [
    "models = {\n",
    "    \"Linear Regression\": LinearRegression(),\n",
    "    \"Lasso\": Lasso(),\n",
    "    \"Ridge\": Ridge(),\n",
    "    \"K-Neighbors Regressor\": KNeighborsRegressor(),\n",
    "    \"Decision Tree\": DecisionTreeRegressor(),\n",
    "    \"Random Forest Regressor\": RandomForestRegressor(),\n",
    "    \"XGBRegressor\": XGBRegressor(), \n",
    "    \"CatBoosting Regressor\": CatBoostRegressor(verbose=False),\n",
    "    \"AdaBoost Regressor\": AdaBoostRegressor()\n",
    "}"
   ]
  },
  {
   "cell_type": "code",
   "execution_count": 14,
   "metadata": {},
   "outputs": [
    {
     "name": "stdout",
     "output_type": "stream",
     "text": [
      "Model: Linear Regression\n",
      "R2 score: 0.8801\n",
      "Mean Absolute Error (MAE): 4.2184\n",
      "Mean Squared Error (MSE): 29.1696\n",
      "Root Mean Squared Error (RMSE): 5.4009\n",
      "--------------------------------------------------\n",
      "\n",
      "\n",
      "Model: Lasso\n",
      "R2 score: 0.8253\n",
      "Mean Absolute Error (MAE): 5.1579\n",
      "Mean Squared Error (MSE): 42.5064\n",
      "Root Mean Squared Error (RMSE): 6.5197\n",
      "--------------------------------------------------\n",
      "\n",
      "\n",
      "Model: Ridge\n",
      "R2 score: 0.8806\n",
      "Mean Absolute Error (MAE): 4.2111\n",
      "Mean Squared Error (MSE): 29.0563\n",
      "Root Mean Squared Error (RMSE): 5.3904\n",
      "--------------------------------------------------\n",
      "\n",
      "\n",
      "Model: K-Neighbors Regressor\n",
      "R2 score: 0.7835\n",
      "Mean Absolute Error (MAE): 5.6370\n",
      "Mean Squared Error (MSE): 52.6834\n",
      "Root Mean Squared Error (RMSE): 7.2583\n",
      "--------------------------------------------------\n",
      "\n",
      "\n",
      "Model: Decision Tree\n",
      "R2 score: 0.7511\n",
      "Mean Absolute Error (MAE): 6.1700\n",
      "Mean Squared Error (MSE): 60.5600\n",
      "Root Mean Squared Error (RMSE): 7.7820\n",
      "--------------------------------------------------\n",
      "\n",
      "\n",
      "Model: Random Forest Regressor\n",
      "R2 score: 0.8493\n",
      "Mean Absolute Error (MAE): 4.6772\n",
      "Mean Squared Error (MSE): 36.6631\n",
      "Root Mean Squared Error (RMSE): 6.0550\n",
      "--------------------------------------------------\n",
      "\n",
      "\n",
      "Model: XGBRegressor\n",
      "R2 score: 0.8278\n",
      "Mean Absolute Error (MAE): 5.0577\n",
      "Mean Squared Error (MSE): 41.9037\n",
      "Root Mean Squared Error (RMSE): 6.4733\n",
      "--------------------------------------------------\n",
      "\n",
      "\n",
      "Model: CatBoosting Regressor\n",
      "R2 score: 0.8516\n",
      "Mean Absolute Error (MAE): 4.6125\n",
      "Mean Squared Error (MSE): 36.1037\n",
      "Root Mean Squared Error (RMSE): 6.0086\n",
      "--------------------------------------------------\n",
      "\n",
      "\n",
      "Model: AdaBoost Regressor\n",
      "R2 score: 0.8412\n",
      "Mean Absolute Error (MAE): 4.8375\n",
      "Mean Squared Error (MSE): 38.6350\n",
      "Root Mean Squared Error (RMSE): 6.2157\n",
      "--------------------------------------------------\n",
      "\n",
      "\n"
     ]
    }
   ],
   "source": [
    "results =[]\n",
    "for name, model in models.items():\n",
    "    model.fit(X_train, y_train)\n",
    "    y_pred = model.predict(X_test)\n",
    "\n",
    "\n",
    "    r2 = r2_score(y_test, y_pred)\n",
    "    mae = mean_absolute_error(y_test, y_pred)\n",
    "    mse = mean_squared_error(y_test, y_pred)\n",
    "    rmse = np.sqrt(mse)\n",
    " \n",
    "    \n",
    "\n",
    "    print(f\"Model: {name}\")\n",
    "    print(f\"R2 score: {r2:.4f}\")\n",
    "    print(f\"Mean Absolute Error (MAE): {mae:.4f}\")\n",
    "    print(f\"Mean Squared Error (MSE): {mse:.4f}\")\n",
    "    print(f\"Root Mean Squared Error (RMSE): {rmse:.4f}\")\n",
    "    r2 = r2_score(y_test, y_pred)\n",
    "    print(\"-\" * 50)\n",
    "    print(\"\\n\")\n",
    "\n",
    "    results.append({'model Name': name,\n",
    "                'R2': r2,\n",
    "                \"Mean Absolute Error (MAE)\": mae,\n",
    "                \"Mean Squared Error (MSE)\": mse,\n",
    "                \"Root Mean Squared Error (RMSE)\":rmse\n",
    "                })"
   ]
  },
  {
   "cell_type": "code",
   "execution_count": null,
   "metadata": {},
   "outputs": [],
   "source": []
  },
  {
   "cell_type": "code",
   "execution_count": 15,
   "metadata": {},
   "outputs": [
    {
     "data": {
      "application/vnd.microsoft.datawrangler.viewer.v0+json": {
       "columns": [
        {
         "name": "index",
         "rawType": "int64",
         "type": "integer"
        },
        {
         "name": "model Name",
         "rawType": "object",
         "type": "string"
        },
        {
         "name": "R2",
         "rawType": "float64",
         "type": "float"
        },
        {
         "name": "Mean Absolute Error (MAE)",
         "rawType": "float64",
         "type": "float"
        },
        {
         "name": "Mean Squared Error (MSE)",
         "rawType": "float64",
         "type": "float"
        },
        {
         "name": "Root Mean Squared Error (RMSE)",
         "rawType": "float64",
         "type": "float"
        }
       ],
       "conversionMethod": "pd.DataFrame",
       "ref": "b11bd055-afec-4832-83e4-b867bf0c2950",
       "rows": [
        [
         "0",
         "Linear Regression",
         "0.8801272640936912",
         "4.218388671875",
         "29.16963975906372",
         "5.4008924965290435"
        ],
        [
         "1",
         "Lasso",
         "0.8253197323627853",
         "5.157881810347763",
         "42.5064168384116",
         "6.519694535667419"
        ],
        [
         "2",
         "Ridge",
         "0.8805931485028741",
         "4.211100688014257",
         "29.05627219234824",
         "5.390387016935634"
        ],
        [
         "3",
         "K-Neighbors Regressor",
         "0.7834973847119895",
         "5.6370000000000005",
         "52.6834",
         "7.258333141982393"
        ],
        [
         "4",
         "Decision Tree",
         "0.7511284696537825",
         "6.17",
         "60.56",
         "7.782030583337488"
        ],
        [
         "5",
         "Random Forest Regressor",
         "0.8493330426544543",
         "4.67725",
         "36.66305633333334",
         "6.055002587392786"
        ],
        [
         "6",
         "XGBRegressor",
         "0.8277965653186071",
         "5.057730598449707",
         "41.90370826987466",
         "6.4733073671713335"
        ],
        [
         "7",
         "CatBoosting Regressor",
         "0.8516318920747058",
         "4.612531714976557",
         "36.10365799356841",
         "6.008631956907363"
        ],
        [
         "8",
         "AdaBoost Regressor",
         "0.841229443848933",
         "4.8374766965650995",
         "38.63497310091081",
         "6.215703749448715"
        ]
       ],
       "shape": {
        "columns": 5,
        "rows": 9
       }
      },
      "text/html": [
       "<div>\n",
       "<style scoped>\n",
       "    .dataframe tbody tr th:only-of-type {\n",
       "        vertical-align: middle;\n",
       "    }\n",
       "\n",
       "    .dataframe tbody tr th {\n",
       "        vertical-align: top;\n",
       "    }\n",
       "\n",
       "    .dataframe thead th {\n",
       "        text-align: right;\n",
       "    }\n",
       "</style>\n",
       "<table border=\"1\" class=\"dataframe\">\n",
       "  <thead>\n",
       "    <tr style=\"text-align: right;\">\n",
       "      <th></th>\n",
       "      <th>model Name</th>\n",
       "      <th>R2</th>\n",
       "      <th>Mean Absolute Error (MAE)</th>\n",
       "      <th>Mean Squared Error (MSE)</th>\n",
       "      <th>Root Mean Squared Error (RMSE)</th>\n",
       "    </tr>\n",
       "  </thead>\n",
       "  <tbody>\n",
       "    <tr>\n",
       "      <th>0</th>\n",
       "      <td>Linear Regression</td>\n",
       "      <td>0.880127</td>\n",
       "      <td>4.218389</td>\n",
       "      <td>29.169640</td>\n",
       "      <td>5.400892</td>\n",
       "    </tr>\n",
       "    <tr>\n",
       "      <th>1</th>\n",
       "      <td>Lasso</td>\n",
       "      <td>0.825320</td>\n",
       "      <td>5.157882</td>\n",
       "      <td>42.506417</td>\n",
       "      <td>6.519695</td>\n",
       "    </tr>\n",
       "    <tr>\n",
       "      <th>2</th>\n",
       "      <td>Ridge</td>\n",
       "      <td>0.880593</td>\n",
       "      <td>4.211101</td>\n",
       "      <td>29.056272</td>\n",
       "      <td>5.390387</td>\n",
       "    </tr>\n",
       "    <tr>\n",
       "      <th>3</th>\n",
       "      <td>K-Neighbors Regressor</td>\n",
       "      <td>0.783497</td>\n",
       "      <td>5.637000</td>\n",
       "      <td>52.683400</td>\n",
       "      <td>7.258333</td>\n",
       "    </tr>\n",
       "    <tr>\n",
       "      <th>4</th>\n",
       "      <td>Decision Tree</td>\n",
       "      <td>0.751128</td>\n",
       "      <td>6.170000</td>\n",
       "      <td>60.560000</td>\n",
       "      <td>7.782031</td>\n",
       "    </tr>\n",
       "    <tr>\n",
       "      <th>5</th>\n",
       "      <td>Random Forest Regressor</td>\n",
       "      <td>0.849333</td>\n",
       "      <td>4.677250</td>\n",
       "      <td>36.663056</td>\n",
       "      <td>6.055003</td>\n",
       "    </tr>\n",
       "    <tr>\n",
       "      <th>6</th>\n",
       "      <td>XGBRegressor</td>\n",
       "      <td>0.827797</td>\n",
       "      <td>5.057731</td>\n",
       "      <td>41.903708</td>\n",
       "      <td>6.473307</td>\n",
       "    </tr>\n",
       "    <tr>\n",
       "      <th>7</th>\n",
       "      <td>CatBoosting Regressor</td>\n",
       "      <td>0.851632</td>\n",
       "      <td>4.612532</td>\n",
       "      <td>36.103658</td>\n",
       "      <td>6.008632</td>\n",
       "    </tr>\n",
       "    <tr>\n",
       "      <th>8</th>\n",
       "      <td>AdaBoost Regressor</td>\n",
       "      <td>0.841229</td>\n",
       "      <td>4.837477</td>\n",
       "      <td>38.634973</td>\n",
       "      <td>6.215704</td>\n",
       "    </tr>\n",
       "  </tbody>\n",
       "</table>\n",
       "</div>"
      ],
      "text/plain": [
       "                model Name        R2  Mean Absolute Error (MAE)  \\\n",
       "0        Linear Regression  0.880127                   4.218389   \n",
       "1                    Lasso  0.825320                   5.157882   \n",
       "2                    Ridge  0.880593                   4.211101   \n",
       "3    K-Neighbors Regressor  0.783497                   5.637000   \n",
       "4            Decision Tree  0.751128                   6.170000   \n",
       "5  Random Forest Regressor  0.849333                   4.677250   \n",
       "6             XGBRegressor  0.827797                   5.057731   \n",
       "7    CatBoosting Regressor  0.851632                   4.612532   \n",
       "8       AdaBoost Regressor  0.841229                   4.837477   \n",
       "\n",
       "   Mean Squared Error (MSE)  Root Mean Squared Error (RMSE)  \n",
       "0                 29.169640                        5.400892  \n",
       "1                 42.506417                        6.519695  \n",
       "2                 29.056272                        5.390387  \n",
       "3                 52.683400                        7.258333  \n",
       "4                 60.560000                        7.782031  \n",
       "5                 36.663056                        6.055003  \n",
       "6                 41.903708                        6.473307  \n",
       "7                 36.103658                        6.008632  \n",
       "8                 38.634973                        6.215704  "
      ]
     },
     "execution_count": 15,
     "metadata": {},
     "output_type": "execute_result"
    }
   ],
   "source": [
    "results_df = pd.DataFrame(results)\n",
    "results_df"
   ]
  },
  {
   "cell_type": "code",
   "execution_count": null,
   "metadata": {},
   "outputs": [],
   "source": []
  }
 ],
 "metadata": {
  "kernelspec": {
   "display_name": "Python 3",
   "language": "python",
   "name": "python3"
  },
  "language_info": {
   "codemirror_mode": {
    "name": "ipython",
    "version": 3
   },
   "file_extension": ".py",
   "mimetype": "text/x-python",
   "name": "python",
   "nbconvert_exporter": "python",
   "pygments_lexer": "ipython3",
   "version": "3.8.20"
  }
 },
 "nbformat": 4,
 "nbformat_minor": 4
}
